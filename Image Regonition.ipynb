{
 "cells": [
  {
   "cell_type": "code",
   "execution_count": 7,
   "id": "4a462349",
   "metadata": {
    "scrolled": true
   },
   "outputs": [],
   "source": [
    "import os \n",
    "import warnings\n",
    "warnings.simplefilter('ignore')"
   ]
  },
  {
   "cell_type": "code",
   "execution_count": 6,
   "id": "b716466e",
   "metadata": {},
   "outputs": [],
   "source": [
    "import numpy as np\n",
    "import pandas as pd\n",
    "import matplotlib.pyplot as plt\n",
    "\n",
    "%matplotlib inline"
   ]
  },
  {
   "cell_type": "code",
   "execution_count": 8,
   "id": "bebdbbe9",
   "metadata": {},
   "outputs": [
    {
     "name": "stdout",
     "output_type": "stream",
     "text": [
      "Collecting scikit-image\n",
      "  Obtaining dependency information for scikit-image from https://files.pythonhosted.org/packages/ce/d0/a3f60c9f57ed295b3076e4acdb29a37bbd8823452562ab2ad51b03d6f377/scikit_image-0.22.0-cp311-cp311-win_amd64.whl.metadata\n",
      "  Downloading scikit_image-0.22.0-cp311-cp311-win_amd64.whl.metadata (13 kB)\n",
      "Requirement already satisfied: numpy>=1.22 in c:\\users\\sn128\\anaconda3\\envs\\sakthicse\\lib\\site-packages (from scikit-image) (1.26.0)\n",
      "Requirement already satisfied: scipy>=1.8 in c:\\users\\sn128\\anaconda3\\envs\\sakthicse\\lib\\site-packages (from scikit-image) (1.11.3)\n",
      "Collecting networkx>=2.8 (from scikit-image)\n",
      "  Using cached networkx-3.1-py3-none-any.whl (2.1 MB)\n",
      "Requirement already satisfied: pillow>=9.0.1 in c:\\users\\sn128\\anaconda3\\envs\\sakthicse\\lib\\site-packages (from scikit-image) (10.0.1)\n",
      "Collecting imageio>=2.27 (from scikit-image)\n",
      "  Obtaining dependency information for imageio>=2.27 from https://files.pythonhosted.org/packages/f6/37/e21e6f38b93878ba80302e95b8ccd4718d80f0c53055ccae343e606b1e2d/imageio-2.31.5-py3-none-any.whl.metadata\n",
      "  Downloading imageio-2.31.5-py3-none-any.whl.metadata (4.6 kB)\n",
      "Collecting tifffile>=2022.8.12 (from scikit-image)\n",
      "  Obtaining dependency information for tifffile>=2022.8.12 from https://files.pythonhosted.org/packages/f5/72/68ea763b5f3e3d9871492683059ed4724fd700dbe54aa03cdda7a9692129/tifffile-2023.9.26-py3-none-any.whl.metadata\n",
      "  Downloading tifffile-2023.9.26-py3-none-any.whl.metadata (30 kB)\n",
      "Requirement already satisfied: packaging>=21 in c:\\users\\sn128\\anaconda3\\envs\\sakthicse\\lib\\site-packages (from scikit-image) (23.1)\n",
      "Collecting lazy_loader>=0.3 (from scikit-image)\n",
      "  Obtaining dependency information for lazy_loader>=0.3 from https://files.pythonhosted.org/packages/a1/c3/65b3814e155836acacf720e5be3b5757130346670ac454fee29d3eda1381/lazy_loader-0.3-py3-none-any.whl.metadata\n",
      "  Downloading lazy_loader-0.3-py3-none-any.whl.metadata (4.3 kB)\n",
      "Downloading scikit_image-0.22.0-cp311-cp311-win_amd64.whl (24.5 MB)\n",
      "   ---------------------------------------- 0.0/24.5 MB ? eta -:--:--\n",
      "   ---------------------------------------- 0.1/24.5 MB 3.6 MB/s eta 0:00:07\n",
      "    --------------------------------------- 0.4/24.5 MB 4.3 MB/s eta 0:00:06\n",
      "    --------------------------------------- 0.6/24.5 MB 4.0 MB/s eta 0:00:06\n",
      "   - -------------------------------------- 0.8/24.5 MB 4.3 MB/s eta 0:00:06\n",
      "   - -------------------------------------- 1.1/24.5 MB 4.6 MB/s eta 0:00:06\n",
      "   -- ------------------------------------- 1.3/24.5 MB 4.6 MB/s eta 0:00:06\n",
      "   -- ------------------------------------- 1.6/24.5 MB 4.8 MB/s eta 0:00:05\n",
      "   --- ------------------------------------ 2.0/24.5 MB 5.2 MB/s eta 0:00:05\n",
      "   ---- ----------------------------------- 2.5/24.5 MB 5.6 MB/s eta 0:00:04\n",
      "   ---- ----------------------------------- 2.8/24.5 MB 5.7 MB/s eta 0:00:04\n",
      "   ---- ----------------------------------- 3.0/24.5 MB 5.6 MB/s eta 0:00:04\n",
      "   ----- ---------------------------------- 3.2/24.5 MB 5.8 MB/s eta 0:00:04\n",
      "   ----- ---------------------------------- 3.5/24.5 MB 5.8 MB/s eta 0:00:04\n",
      "   ------ --------------------------------- 3.8/24.5 MB 5.8 MB/s eta 0:00:04\n",
      "   ------ --------------------------------- 4.2/24.5 MB 5.9 MB/s eta 0:00:04\n",
      "   ------- -------------------------------- 4.6/24.5 MB 6.2 MB/s eta 0:00:04\n",
      "   -------- ------------------------------- 5.1/24.5 MB 6.4 MB/s eta 0:00:04\n",
      "   --------- ------------------------------ 5.6/24.5 MB 6.5 MB/s eta 0:00:03\n",
      "   --------- ------------------------------ 5.9/24.5 MB 6.5 MB/s eta 0:00:03\n",
      "   ---------- ----------------------------- 6.3/24.5 MB 6.6 MB/s eta 0:00:03\n",
      "   ---------- ----------------------------- 6.6/24.5 MB 6.5 MB/s eta 0:00:03\n",
      "   ----------- ---------------------------- 7.0/24.5 MB 6.6 MB/s eta 0:00:03\n",
      "   ------------ --------------------------- 7.6/24.5 MB 6.8 MB/s eta 0:00:03\n",
      "   ------------ --------------------------- 7.6/24.5 MB 6.8 MB/s eta 0:00:03\n",
      "   ------------ --------------------------- 7.9/24.5 MB 6.6 MB/s eta 0:00:03\n",
      "   ------------- -------------------------- 8.0/24.5 MB 6.4 MB/s eta 0:00:03\n",
      "   ------------- -------------------------- 8.1/24.5 MB 6.2 MB/s eta 0:00:03\n",
      "   ------------- -------------------------- 8.5/24.5 MB 6.3 MB/s eta 0:00:03\n",
      "   -------------- ------------------------- 8.8/24.5 MB 6.3 MB/s eta 0:00:03\n",
      "   -------------- ------------------------- 9.1/24.5 MB 6.3 MB/s eta 0:00:03\n",
      "   --------------- ------------------------ 9.4/24.5 MB 6.3 MB/s eta 0:00:03\n",
      "   --------------- ------------------------ 9.7/24.5 MB 6.2 MB/s eta 0:00:03\n",
      "   ---------------- ----------------------- 9.9/24.5 MB 6.2 MB/s eta 0:00:03\n",
      "   ---------------- ----------------------- 10.2/24.5 MB 6.1 MB/s eta 0:00:03\n",
      "   ----------------- ---------------------- 10.4/24.5 MB 6.2 MB/s eta 0:00:03\n",
      "   ----------------- ---------------------- 10.7/24.5 MB 6.2 MB/s eta 0:00:03\n",
      "   ----------------- ---------------------- 11.0/24.5 MB 6.4 MB/s eta 0:00:03\n",
      "   ------------------ --------------------- 11.3/24.5 MB 6.4 MB/s eta 0:00:03\n",
      "   ------------------ --------------------- 11.5/24.5 MB 6.4 MB/s eta 0:00:03\n",
      "   ------------------- -------------------- 11.8/24.5 MB 6.4 MB/s eta 0:00:02\n",
      "   ------------------- -------------------- 12.2/24.5 MB 6.4 MB/s eta 0:00:02\n",
      "   -------------------- ------------------- 12.4/24.5 MB 6.4 MB/s eta 0:00:02\n",
      "   -------------------- ------------------- 12.8/24.5 MB 6.4 MB/s eta 0:00:02\n",
      "   --------------------- ------------------ 13.0/24.5 MB 6.4 MB/s eta 0:00:02\n",
      "   --------------------- ------------------ 13.3/24.5 MB 6.4 MB/s eta 0:00:02\n",
      "   ---------------------- ----------------- 13.5/24.5 MB 6.4 MB/s eta 0:00:02\n",
      "   ---------------------- ----------------- 13.9/24.5 MB 6.4 MB/s eta 0:00:02\n",
      "   ----------------------- ---------------- 14.3/24.5 MB 6.5 MB/s eta 0:00:02\n",
      "   ------------------------ --------------- 14.8/24.5 MB 6.5 MB/s eta 0:00:02\n",
      "   ------------------------ --------------- 15.2/24.5 MB 6.6 MB/s eta 0:00:02\n",
      "   ------------------------- -------------- 15.7/24.5 MB 6.5 MB/s eta 0:00:02\n",
      "   -------------------------- ------------- 16.1/24.5 MB 6.7 MB/s eta 0:00:02\n",
      "   -------------------------- ------------- 16.4/24.5 MB 6.7 MB/s eta 0:00:02\n",
      "   --------------------------- ------------ 16.7/24.5 MB 6.7 MB/s eta 0:00:02\n",
      "   --------------------------- ------------ 16.9/24.5 MB 6.7 MB/s eta 0:00:02\n",
      "   ---------------------------- ----------- 17.2/24.5 MB 6.7 MB/s eta 0:00:02\n",
      "   ---------------------------- ----------- 17.5/24.5 MB 6.6 MB/s eta 0:00:02\n",
      "   ---------------------------- ----------- 17.7/24.5 MB 6.5 MB/s eta 0:00:02\n",
      "   ----------------------------- ---------- 18.0/24.5 MB 6.7 MB/s eta 0:00:01\n",
      "   ----------------------------- ---------- 18.2/24.5 MB 6.8 MB/s eta 0:00:01\n",
      "   ------------------------------ --------- 18.4/24.5 MB 6.8 MB/s eta 0:00:01\n",
      "   ------------------------------ --------- 18.7/24.5 MB 6.7 MB/s eta 0:00:01\n",
      "   ------------------------------ --------- 18.9/24.5 MB 6.8 MB/s eta 0:00:01\n",
      "   ------------------------------- -------- 19.2/24.5 MB 6.7 MB/s eta 0:00:01\n",
      "   ------------------------------- -------- 19.5/24.5 MB 6.7 MB/s eta 0:00:01\n",
      "   -------------------------------- ------- 19.8/24.5 MB 6.7 MB/s eta 0:00:01\n",
      "   -------------------------------- ------- 20.1/24.5 MB 6.9 MB/s eta 0:00:01\n",
      "   --------------------------------- ------ 20.4/24.5 MB 6.9 MB/s eta 0:00:01\n",
      "   --------------------------------- ------ 20.7/24.5 MB 6.9 MB/s eta 0:00:01\n",
      "   ---------------------------------- ----- 21.0/24.5 MB 7.0 MB/s eta 0:00:01\n",
      "   ---------------------------------- ----- 21.3/24.5 MB 7.0 MB/s eta 0:00:01\n",
      "   ----------------------------------- ---- 21.6/24.5 MB 7.0 MB/s eta 0:00:01\n",
      "   ------------------------------------ --- 22.0/24.5 MB 7.1 MB/s eta 0:00:01\n",
      "   ------------------------------------ --- 22.4/24.5 MB 7.1 MB/s eta 0:00:01\n",
      "   ------------------------------------- -- 22.8/24.5 MB 7.3 MB/s eta 0:00:01\n",
      "   -------------------------------------- - 23.3/24.5 MB 7.5 MB/s eta 0:00:01\n",
      "   -------------------------------------- - 23.8/24.5 MB 7.6 MB/s eta 0:00:01\n",
      "   ---------------------------------------  24.3/24.5 MB 7.7 MB/s eta 0:00:01\n",
      "   ---------------------------------------  24.5/24.5 MB 7.7 MB/s eta 0:00:01\n",
      "   ---------------------------------------  24.5/24.5 MB 7.7 MB/s eta 0:00:01\n",
      "   ---------------------------------------  24.5/24.5 MB 7.7 MB/s eta 0:00:01\n",
      "   ---------------------------------------  24.5/24.5 MB 7.7 MB/s eta 0:00:01\n",
      "   ---------------------------------------  24.5/24.5 MB 7.7 MB/s eta 0:00:01\n",
      "   ---------------------------------------  24.5/24.5 MB 7.7 MB/s eta 0:00:01\n",
      "   ---------------------------------------  24.5/24.5 MB 7.7 MB/s eta 0:00:01\n",
      "   ---------------------------------------- 24.5/24.5 MB 6.3 MB/s eta 0:00:00\n",
      "Downloading imageio-2.31.5-py3-none-any.whl (313 kB)\n",
      "   ---------------------------------------- 0.0/313.2 kB ? eta -:--:--\n",
      "   ---------------------------------------  307.2/313.2 kB ? eta -:--:--\n",
      "   ---------------------------------------- 313.2/313.2 kB 4.8 MB/s eta 0:00:00\n",
      "Downloading lazy_loader-0.3-py3-none-any.whl (9.1 kB)\n",
      "Downloading tifffile-2023.9.26-py3-none-any.whl (222 kB)\n",
      "   ---------------------------------------- 0.0/222.9 kB ? eta -:--:--\n",
      "   ------------------------------------- - 215.0/222.9 kB 13.7 MB/s eta 0:00:01\n",
      "   ---------------------------------------- 222.9/222.9 kB 3.4 MB/s eta 0:00:00\n",
      "Installing collected packages: tifffile, networkx, lazy_loader, imageio, scikit-image\n",
      "Successfully installed imageio-2.31.5 lazy_loader-0.3 networkx-3.1 scikit-image-0.22.0 tifffile-2023.9.26\n",
      "Note: you may need to restart the kernel to use updated packages.\n"
     ]
    }
   ],
   "source": [
    "pip install scikit-image"
   ]
  },
  {
   "cell_type": "code",
   "execution_count": 10,
   "id": "8a9c8bfe",
   "metadata": {},
   "outputs": [],
   "source": [
    "from skimage.io import imread, imshow\n",
    "from skimage.transform import resize\n",
    "from skimage.color import rgb2gray"
   ]
  },
  {
   "cell_type": "code",
   "execution_count": null,
   "id": "06a416ea",
   "metadata": {},
   "outputs": [],
   "source": [
    "tom=os.listdir('tomcruise')"
   ]
  },
  {
   "cell_type": "code",
   "execution_count": null,
   "id": "59ce63a2",
   "metadata": {},
   "outputs": [],
   "source": [
    "vijay=os.listdir('vijay')"
   ]
  },
  {
   "cell_type": "code",
   "execution_count": null,
   "id": "eb6a76cf",
   "metadata": {},
   "outputs": [],
   "source": [
    "vikram=os.listdir('vikrame')"
   ]
  }
 ],
 "metadata": {
  "kernelspec": {
   "display_name": "Python 3 (ipykernel)",
   "language": "python",
   "name": "python3"
  },
  "language_info": {
   "codemirror_mode": {
    "name": "ipython",
    "version": 3
   },
   "file_extension": ".py",
   "mimetype": "text/x-python",
   "name": "python",
   "nbconvert_exporter": "python",
   "pygments_lexer": "ipython3",
   "version": "3.11.5"
  }
 },
 "nbformat": 4,
 "nbformat_minor": 5
}
