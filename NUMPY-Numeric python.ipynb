{
 "cells": [
  {
   "cell_type": "code",
   "execution_count": 1,
   "id": "c39e221d",
   "metadata": {
    "scrolled": true
   },
   "outputs": [],
   "source": [
    "#pip install numpy"
   ]
  },
  {
   "cell_type": "code",
   "execution_count": 2,
   "id": "81dff562",
   "metadata": {},
   "outputs": [],
   "source": [
    "import numpy as np"
   ]
  },
  {
   "cell_type": "code",
   "execution_count": 3,
   "id": "b3528868",
   "metadata": {},
   "outputs": [
    {
     "name": "stdout",
     "output_type": "stream",
     "text": [
      "<class 'numpy.ndarray'>\n"
     ]
    }
   ],
   "source": [
    "a=np.array([1,11,12])\n",
    "print(type(a))"
   ]
  },
  {
   "cell_type": "code",
   "execution_count": 4,
   "id": "b5dc54a3",
   "metadata": {},
   "outputs": [
    {
     "name": "stdout",
     "output_type": "stream",
     "text": [
      "[ 1 11 12]\n"
     ]
    }
   ],
   "source": [
    "print(a)"
   ]
  },
  {
   "cell_type": "code",
   "execution_count": 5,
   "id": "8b8f8129",
   "metadata": {},
   "outputs": [
    {
     "name": "stdout",
     "output_type": "stream",
     "text": [
      "<class 'numpy.ndarray'>\n"
     ]
    }
   ],
   "source": [
    "c=np.array([(23,22,1),(2,1,4),(5,6,7)])\n",
    "print(type(c))"
   ]
  },
  {
   "cell_type": "code",
   "execution_count": 6,
   "id": "481c3c7c",
   "metadata": {},
   "outputs": [
    {
     "name": "stdout",
     "output_type": "stream",
     "text": [
      "[[23 22  1]\n",
      " [ 2  1  4]\n",
      " [ 5  6  7]]\n"
     ]
    }
   ],
   "source": [
    "print(c)"
   ]
  },
  {
   "cell_type": "code",
   "execution_count": 7,
   "id": "17290a1b",
   "metadata": {},
   "outputs": [],
   "source": [
    "r=c.ravel()"
   ]
  },
  {
   "cell_type": "code",
   "execution_count": 8,
   "id": "dcf76f5b",
   "metadata": {},
   "outputs": [
    {
     "name": "stdout",
     "output_type": "stream",
     "text": [
      "[23 22  1  2  1  4  5  6  7]\n"
     ]
    }
   ],
   "source": [
    "print(r)"
   ]
  },
  {
   "cell_type": "code",
   "execution_count": 9,
   "id": "f117c9b9",
   "metadata": {},
   "outputs": [],
   "source": [
    "zeromatrix=np.zeros((3,3))"
   ]
  },
  {
   "cell_type": "code",
   "execution_count": 10,
   "id": "b3be9b68",
   "metadata": {},
   "outputs": [
    {
     "name": "stdout",
     "output_type": "stream",
     "text": [
      "[[0. 0. 0.]\n",
      " [0. 0. 0.]\n",
      " [0. 0. 0.]]\n"
     ]
    }
   ],
   "source": [
    "print(zeromatrix)"
   ]
  },
  {
   "cell_type": "code",
   "execution_count": 11,
   "id": "9ec634ff",
   "metadata": {},
   "outputs": [],
   "source": [
    "one=np.ones((2,2))"
   ]
  },
  {
   "cell_type": "code",
   "execution_count": 12,
   "id": "571ff4ac",
   "metadata": {},
   "outputs": [
    {
     "data": {
      "text/plain": [
       "array([[1., 1.],\n",
       "       [1., 1.]])"
      ]
     },
     "execution_count": 12,
     "metadata": {},
     "output_type": "execute_result"
    }
   ],
   "source": [
    "one"
   ]
  },
  {
   "cell_type": "code",
   "execution_count": 13,
   "id": "ea9e29b7",
   "metadata": {},
   "outputs": [],
   "source": [
    "ins=np.insert(a,1,10)"
   ]
  },
  {
   "cell_type": "code",
   "execution_count": 14,
   "id": "9b910370",
   "metadata": {},
   "outputs": [
    {
     "data": {
      "text/plain": [
       "array([ 1, 10, 11, 12])"
      ]
     },
     "execution_count": 14,
     "metadata": {},
     "output_type": "execute_result"
    }
   ],
   "source": [
    "ins"
   ]
  },
  {
   "cell_type": "code",
   "execution_count": 15,
   "id": "668f7a3c",
   "metadata": {},
   "outputs": [
    {
     "data": {
      "text/plain": [
       "array([23., 22.,  1.,  2.,  1.,  4.,  5.,  6.,  7.,  1.,  1.,  1.,  1.])"
      ]
     },
     "execution_count": 15,
     "metadata": {},
     "output_type": "execute_result"
    }
   ],
   "source": [
    "np.append(c,one)"
   ]
  },
  {
   "cell_type": "code",
   "execution_count": 16,
   "id": "f2548c7a",
   "metadata": {},
   "outputs": [],
   "source": [
    "txt=np.array([(1,2,3),(2,3,4)])"
   ]
  },
  {
   "cell_type": "code",
   "execution_count": 17,
   "id": "9737bcaa",
   "metadata": {},
   "outputs": [
    {
     "data": {
      "text/plain": [
       "array([[1, 2, 3],\n",
       "       [2, 3, 4]])"
      ]
     },
     "execution_count": 17,
     "metadata": {},
     "output_type": "execute_result"
    }
   ],
   "source": [
    "txt"
   ]
  },
  {
   "cell_type": "code",
   "execution_count": 19,
   "id": "58533ace",
   "metadata": {},
   "outputs": [
    {
     "data": {
      "text/plain": [
       "array([[1, 2, 3, 1, 2, 3],\n",
       "       [2, 3, 4, 2, 3, 4]])"
      ]
     },
     "execution_count": 19,
     "metadata": {},
     "output_type": "execute_result"
    }
   ],
   "source": [
    "np.concatenate((txt,txt),axis=1)"
   ]
  },
  {
   "cell_type": "code",
   "execution_count": 20,
   "id": "f09de920",
   "metadata": {},
   "outputs": [
    {
     "data": {
      "text/plain": [
       "array([1, 2, 3, 2, 3, 4, 1, 2, 3, 2, 3, 4])"
      ]
     },
     "execution_count": 20,
     "metadata": {},
     "output_type": "execute_result"
    }
   ],
   "source": [
    "np.concatenate((txt,txt),axis=None)"
   ]
  },
  {
   "cell_type": "markdown",
   "id": "71f563c2",
   "metadata": {},
   "source": [
    "# Stack"
   ]
  },
  {
   "cell_type": "code",
   "execution_count": 21,
   "id": "5fd88f78",
   "metadata": {},
   "outputs": [
    {
     "data": {
      "text/plain": [
       "array([[23, 22,  1, 23, 22,  1],\n",
       "       [ 2,  1,  4,  2,  1,  4],\n",
       "       [ 5,  6,  7,  5,  6,  7]])"
      ]
     },
     "execution_count": 21,
     "metadata": {},
     "output_type": "execute_result"
    }
   ],
   "source": [
    "np.hstack((c,c))"
   ]
  },
  {
   "cell_type": "code",
   "execution_count": 22,
   "id": "37f77984",
   "metadata": {},
   "outputs": [
    {
     "data": {
      "text/plain": [
       "array([[ 1, 11, 12],\n",
       "       [ 1, 11, 12]])"
      ]
     },
     "execution_count": 22,
     "metadata": {},
     "output_type": "execute_result"
    }
   ],
   "source": [
    "np.vstack((a,a))"
   ]
  },
  {
   "cell_type": "code",
   "execution_count": 23,
   "id": "3cc9b7a2",
   "metadata": {},
   "outputs": [
    {
     "data": {
      "text/plain": [
       "[array([[23, 22,  1]]), array([[2, 1, 4]]), array([[5, 6, 7]])]"
      ]
     },
     "execution_count": 23,
     "metadata": {},
     "output_type": "execute_result"
    }
   ],
   "source": [
    "#split\n",
    "np.split(c,3)"
   ]
  },
  {
   "cell_type": "code",
   "execution_count": 24,
   "id": "6f7cf789",
   "metadata": {},
   "outputs": [
    {
     "data": {
      "text/plain": [
       "array([[0.0e+000, 4.9e-324],\n",
       "       [9.9e-324, 1.5e-323]])"
      ]
     },
     "execution_count": 24,
     "metadata": {},
     "output_type": "execute_result"
    }
   ],
   "source": [
    "#Empty\n",
    "np.empty((2,2))"
   ]
  },
  {
   "cell_type": "code",
   "execution_count": 25,
   "id": "a3ed4a86",
   "metadata": {},
   "outputs": [],
   "source": [
    "ran=np.random.random((50,30))"
   ]
  },
  {
   "cell_type": "code",
   "execution_count": 26,
   "id": "ee360c50",
   "metadata": {},
   "outputs": [
    {
     "name": "stdout",
     "output_type": "stream",
     "text": [
      "[[0.1980117  0.22468175 0.65517953 ... 0.5032463  0.73407391 0.25459578]\n",
      " [0.18382497 0.2284424  0.00474904 ... 0.78998674 0.73525006 0.59212713]\n",
      " [0.41891252 0.08038734 0.21785608 ... 0.45909028 0.02986907 0.76054481]\n",
      " ...\n",
      " [0.85240451 0.29731897 0.7782749  ... 0.46848246 0.3202805  0.25457104]\n",
      " [0.6241438  0.67772781 0.51047109 ... 0.09897752 0.48984551 0.31488663]\n",
      " [0.26491842 0.397585   0.29737088 ... 0.90730777 0.0756812  0.74785875]]\n"
     ]
    }
   ],
   "source": [
    "print(ran)"
   ]
  },
  {
   "cell_type": "code",
   "execution_count": null,
   "id": "56113b24",
   "metadata": {},
   "outputs": [],
   "source": []
  }
 ],
 "metadata": {
  "kernelspec": {
   "display_name": "Python 3 (ipykernel)",
   "language": "python",
   "name": "python3"
  },
  "language_info": {
   "codemirror_mode": {
    "name": "ipython",
    "version": 3
   },
   "file_extension": ".py",
   "mimetype": "text/x-python",
   "name": "python",
   "nbconvert_exporter": "python",
   "pygments_lexer": "ipython3",
   "version": "3.9.17"
  }
 },
 "nbformat": 4,
 "nbformat_minor": 5
}
